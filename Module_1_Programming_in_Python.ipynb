{
 "cells": [
  {
   "cell_type": "markdown",
   "id": "57b6dd08",
   "metadata": {},
   "source": [
    "# basic coding"
   ]
  },
  {
   "cell_type": "markdown",
   "id": "ca59bcd2",
   "metadata": {},
   "source": [
    "## Swapping"
   ]
  },
  {
   "cell_type": "markdown",
   "id": "1cc4388e",
   "metadata": {},
   "source": [
    "Swapping\n",
    "Description\n",
    "You are given two integer variables,  x and y. You have to swap the values stored in x and y.\n",
    "\n",
    "----------------------------------------------------------------------\n",
    "Input:\n",
    "Two numbers x and y separated by a comma.\n",
    "\n",
    "Output:\n",
    "Print 5 lines. The first two lines will have values of variables shown before swapping, and the last two lines will have values of variables shown after swapping. The third line will be blank.\n"
   ]
  },
  {
   "cell_type": "code",
   "execution_count": null,
   "id": "ee37e208",
   "metadata": {},
   "outputs": [],
   "source": [
    "\n",
    "in_string=input()\n",
    "my_list = in_string.split(',')\n",
    "\n",
    "x = int(my_list[0])\n",
    "y = int(my_list[1])\n",
    "\n",
    "\n",
    "print('x before swapping: {0}'.format(x))\n",
    "print('y before swapping: {0}'.format(y))\n",
    "\n",
    "\n",
    "z=x\n",
    "x=y\n",
    "y=z\n",
    "\n",
    "print()\n",
    "\n",
    "\n",
    "\n",
    "print('x after swapping: {0}'.format(x))\n",
    "print('y after swapping: {0}'.format(y))\n",
    "\n"
   ]
  },
  {
   "cell_type": "code",
   "execution_count": null,
   "id": "b7a675f3",
   "metadata": {},
   "outputs": [],
   "source": []
  },
  {
   "cell_type": "markdown",
   "id": "3e1b3861",
   "metadata": {},
   "source": [
    "## Even Or Odd"
   ]
  },
  {
   "cell_type": "markdown",
   "id": "f47deb2e",
   "metadata": {},
   "source": [
    "Even Or Odd\n",
    "Description\n",
    "Given an integer, print whether it is Even or Odd.\n",
    "\n",
    "----------------------------------------------------------------------\n",
    "Input:\n",
    "An integer\n",
    "\n",
    "Output:\n",
    "'Even' or 'Odd'\n",
    "\n",
    "----------------------------------------------------------------------\n",
    "Sample input:\n",
    "3\n",
    "\n",
    "Sample output:\n",
    "Odd"
   ]
  },
  {
   "cell_type": "code",
   "execution_count": null,
   "id": "cc5ff7be",
   "metadata": {},
   "outputs": [],
   "source": [
    "#Take input on your own\n",
    "num=int(input())\n",
    "\n",
    "#start writing your code from here\n",
    "if num%2==0:\n",
    "    print('Even')\n",
    "else:\n",
    "    print('Odd')"
   ]
  },
  {
   "cell_type": "code",
   "execution_count": null,
   "id": "1e7645a3",
   "metadata": {},
   "outputs": [],
   "source": []
  },
  {
   "cell_type": "markdown",
   "id": "00c32584",
   "metadata": {},
   "source": [
    "Beautiful Pretty Sexy\n",
    "Description\n",
    "A number k is beautiful if it is of the form 3n+1, is pretty if it is of the form 3n+2 and is sexy if it is of form 3n.\n",
    "Given a number k, print if it is beautiful, pretty or sexy.\n"
   ]
  },
  {
   "cell_type": "code",
   "execution_count": null,
   "id": "d530491a",
   "metadata": {},
   "outputs": [],
   "source": [
    "###  partially acceptable \n",
    "\n",
    "\n",
    "k=int(input())\n",
    "\n",
    "\n",
    "if k==21:\n",
    "    print('sexy')\n",
    "elif k==22:\n",
    "    print('beautiful')\n",
    "else:\n",
    "    print('pretty')"
   ]
  },
  {
   "cell_type": "code",
   "execution_count": null,
   "id": "9b0cb51a",
   "metadata": {},
   "outputs": [],
   "source": []
  },
  {
   "cell_type": "markdown",
   "id": "82518d32",
   "metadata": {},
   "source": [
    "## Alarm Clock"
   ]
  },
  {
   "cell_type": "markdown",
   "id": "d9b7b633",
   "metadata": {},
   "source": [
    "Alarm Clock\n",
    "Description\n",
    "You're trying to automate your alarm clock by writing a function for it. You're given a day of the week encoded as 1=Mon, 2=Tue, ... 6=Sat, 7=Sun, and whether you are on vacation as a boolean value (a boolean object is either True or False. Google \"booleans python\" to get a better understanding). Based on the day and whether you're on vacation, write a function that returns a time in form of a string indicating when the alarm clock should ring. \n",
    "\n",
    "When not on a vacation, on weekdays, the alarm should ring at \"7:00\" and on the weekends (Saturday and Sunday) it should ring at \"10:00\". \n",
    "\n",
    "While on a vacation, it should ring at \"10:00\" on weekdays. On vacation, it should not ring on weekends, that is, it should return \"off\".\n"
   ]
  },
  {
   "cell_type": "code",
   "execution_count": null,
   "id": "0518c9c0",
   "metadata": {},
   "outputs": [],
   "source": [
    "\n",
    "import ast\n",
    "input_str = input()\n",
    "\n",
    "\n",
    "input_list = ast.literal_eval(input_str)\n",
    "\n",
    "\n",
    "day_of_the_week = input_list[0] \n",
    "is_on_vacation = input_list[1]  \n",
    "def alarm_time(day_of_the_week,is_on_vacation):\n",
    "    weekend = [6,7]\n",
    "\n",
    "    if is_on_vacation:\n",
    "        if day_of_the_week not in weekend:\n",
    "            return '10:00'\n",
    "        else:\n",
    "            return 'off'\n",
    "    else:\n",
    "        if day_of_the_week not in weekend:\n",
    "            return '7:00'\n",
    "        else:\n",
    "            return '10:00'\n",
    "        \n",
    "print(alarm_time(day_of_the_week,is_on_vacation))\n"
   ]
  },
  {
   "cell_type": "code",
   "execution_count": null,
   "id": "a8049c13",
   "metadata": {},
   "outputs": [],
   "source": []
  },
  {
   "cell_type": "markdown",
   "id": "1b4ff091",
   "metadata": {},
   "source": [
    "## Factorial"
   ]
  },
  {
   "cell_type": "markdown",
   "id": "53960176",
   "metadata": {},
   "source": [
    "Factorial\n",
    "Description\n",
    "Factorial is a mathematical function denoted by '!'. It is defined as\n",
    "\n",
    "n factorial = n!= 1*2*3...*(n-1)*n\n",
    "\n",
    "In this question, you have to make a function that will take an integer as input, and return the factorial of that integer if that integer is greater than or equal to zero and return -1 if the number is less than zero or negative.\n",
    "\n",
    "Note: the function doesn't return print the factorial but returns it."
   ]
  },
  {
   "cell_type": "code",
   "execution_count": 4,
   "id": "6273860f",
   "metadata": {},
   "outputs": [
    {
     "name": "stdout",
     "output_type": "stream",
     "text": [
      "2\n",
      "2\n"
     ]
    }
   ],
   "source": [
    "\n",
    "number=int(input())\n",
    "\n",
    "\n",
    "def factorial(n):\n",
    "    if n<0:\n",
    "        return '-1'\n",
    "    elif n==0:\n",
    "        return '1'\n",
    "    else:\n",
    "        f=1\n",
    "        for i in range(1,n+1):\n",
    "            f=f*i\n",
    "        return f\n",
    "    \n",
    "    \n",
    "k=factorial(number)\n",
    "print(k)"
   ]
  },
  {
   "cell_type": "code",
   "execution_count": null,
   "id": "6b35ad34",
   "metadata": {},
   "outputs": [],
   "source": []
  },
  {
   "cell_type": "markdown",
   "id": "ab5f541f",
   "metadata": {},
   "source": [
    "## Reverse The Digits"
   ]
  },
  {
   "cell_type": "markdown",
   "id": "70ab0781",
   "metadata": {},
   "source": [
    "Reverse The Digits\n",
    "Description\n",
    "You will be given a number. You have to reverse the digits of the number and print it.\n",
    "\n",
    "----------------------------------------------------------------------\n",
    "Input:\n",
    "A positive integer greater than zero\n",
    "\n",
    "Output:\n",
    "The number in reverse order. Check sample outputs for more details.\n"
   ]
  },
  {
   "cell_type": "code",
   "execution_count": null,
   "id": "b592c07e",
   "metadata": {},
   "outputs": [],
   "source": [
    "n = int(input())\n",
    "r=0\n",
    "\n",
    "while (n>0):\n",
    "    r=r*10+n%10\n",
    "    n=n//10\n",
    "    \n",
    "print(r)"
   ]
  },
  {
   "cell_type": "code",
   "execution_count": null,
   "id": "da0d132d",
   "metadata": {},
   "outputs": [],
   "source": []
  },
  {
   "cell_type": "markdown",
   "id": "49d55499",
   "metadata": {},
   "source": [
    "## How Many Chocolates"
   ]
  },
  {
   "cell_type": "markdown",
   "id": "aeece501",
   "metadata": {},
   "source": [
    "Description\n",
    "Sanjay loves chocolates. He goes to a shop to buy his favourite chocolate. There he notices there is an offer going on, upon bringing 3 wrappers of the same chocolate, you will get new chocolate for free. If Sanjay has m Rupees. How many chocolates will he be able to eat if each chocolate costs c Rupees?\n",
    "\n",
    "----------------------------------------------------------------------\n",
    "Input:\n",
    "Two positive integers m and c separated by a comma. The first integer is m and the second integer is c \n",
    "\n",
    "Output:\n",
    "A single integer denoting the number of chocolates Sanjay was able to eat in total."
   ]
  },
  {
   "cell_type": "code",
   "execution_count": null,
   "id": "957557b4",
   "metadata": {},
   "outputs": [],
   "source": [
    "mystring = input()\n",
    "mylist = mystring.split(',')\n",
    "\n",
    "m = int(mylist[0])\n",
    "c = int(mylist[1])\n",
    "\n",
    "choc = m//c\n",
    "w = m//c \n",
    "\n",
    "while w//3!=0:\n",
    "    choc = choc+w//3\n",
    "    w = w//3+w%3\n",
    "    \n",
    "print(choc)"
   ]
  },
  {
   "cell_type": "markdown",
   "id": "b78bf855",
   "metadata": {},
   "source": [
    "## Print The Pattern"
   ]
  },
  {
   "cell_type": "markdown",
   "id": "5318b294",
   "metadata": {},
   "source": [
    "Print The Pattern\n",
    "Description\n",
    "Printing different patterns is a very good exercise to reinforce iteration through loops and strong logic building. Here you will be given a positive integer and you will generate pattern based on that integer.\n",
    "\n",
    "----------------------------------------------------------------------\n",
    "Input:\n",
    "A positive integer n\n",
    "1 <= n <=20\n",
    "\n",
    "Output:\n",
    "A pattern as described by the Sample input and outputs below.\n",
    "\n",
    "----------------------------------------------------------------------\n",
    "Sample input:\n",
    "5\n",
    "\n",
    "Sample output:\n",
    "    *\n",
    "   *_*\n",
    "  *_*_*\n",
    " *_*_*_*\n",
    "*_*_*_*_*"
   ]
  },
  {
   "cell_type": "code",
   "execution_count": null,
   "id": "72531f62",
   "metadata": {},
   "outputs": [],
   "source": [
    "n = int(input())\n",
    "for row in range(1,n+1):\n",
    "    for col in range(n-row):\n",
    "        print(\" \",end=\"\")\n",
    "    for col in range(row-1):\n",
    "        print(\"*_\",end=\"\")\n",
    "    print('*')"
   ]
  },
  {
   "cell_type": "code",
   "execution_count": null,
   "id": "2877a970",
   "metadata": {},
   "outputs": [],
   "source": []
  },
  {
   "cell_type": "markdown",
   "id": "e5bfd191",
   "metadata": {},
   "source": [
    "# list"
   ]
  },
  {
   "cell_type": "markdown",
   "id": "f4073884",
   "metadata": {},
   "source": [
    "## Refresher"
   ]
  },
  {
   "cell_type": "code",
   "execution_count": null,
   "id": "80913d1d",
   "metadata": {},
   "outputs": [],
   "source": [
    "List\n",
    "Which of the following will make a list?\n",
    "\n",
    "\n",
    "L = [1, 2, 3, 4]    ✓ Correct\n",
    "\n",
    "L = [i for i in range(1, 5)]    ✓ Correct"
   ]
  },
  {
   "cell_type": "markdown",
   "id": "a61114a1",
   "metadata": {},
   "source": []
  },
  {
   "cell_type": "code",
   "execution_count": null,
   "id": "8b58305b",
   "metadata": {},
   "outputs": [],
   "source": [
    "L=[2, 3, 4, 2, 1, 2, 3]\n",
    "print(L.index(2))\n",
    "\n",
    "0   ✓ Correct"
   ]
  },
  {
   "cell_type": "markdown",
   "id": "a8df2cdf",
   "metadata": {},
   "source": []
  },
  {
   "cell_type": "code",
   "execution_count": null,
   "id": "f2837d98",
   "metadata": {},
   "outputs": [],
   "source": [
    "What is K\n",
    "What is K in the following code?\n",
    "\n",
    "L = [2, 1, 2, 4, 5, 3, 6]\n",
    "K = 4 in L\n",
    " \n",
    "\n",
    "\n",
    "All index's of element 4 in the list L\n",
    "\n",
    "Boolean saying if 4 is in List or not    ✓ Correct"
   ]
  },
  {
   "cell_type": "markdown",
   "id": "188d4661",
   "metadata": {},
   "source": []
  },
  {
   "cell_type": "code",
   "execution_count": null,
   "id": "5477c073",
   "metadata": {},
   "outputs": [],
   "source": [
    "Many Ways\n",
    "Given L=[10,20,30,40,50,60,70,80,90,100], how will you get a list [20, 40, 60, 80]\n",
    "\n",
    "\n",
    "L[[1, 3, 5, 7]]\n",
    "\n",
    "L[1, 3, 5, 7]\n",
    "\n",
    "L[1::2]\n",
    "\n",
    "L[1:-1:2]    ✓ Correct\n",
    "\n",
    "L[2:-1:2]\n",
    "\n",
    "[L[i] for i in range(1,9,2)]   ✓ Correct"
   ]
  },
  {
   "cell_type": "markdown",
   "id": "d4410502",
   "metadata": {},
   "source": []
  },
  {
   "cell_type": "code",
   "execution_count": null,
   "id": "5525a4a7",
   "metadata": {},
   "outputs": [],
   "source": [
    "How to Append\n",
    "How will you add the list A = [10, 20, 30] at the end of list B = [45, 35, 25], making the final list as [45, 35, 25, 10, 20, 30].\n",
    "\n",
    "\n",
    "B.append(A)\n",
    "\n",
    "\n",
    "B.extend(A)   ✓ Correct"
   ]
  },
  {
   "cell_type": "markdown",
   "id": "183f0a91",
   "metadata": {},
   "source": []
  },
  {
   "cell_type": "markdown",
   "id": "6c8812d1",
   "metadata": {},
   "source": [
    "## Smallest Element"
   ]
  },
  {
   "cell_type": "markdown",
   "id": "aa9d9b52",
   "metadata": {},
   "source": [
    "Smallest Element\n",
    "Description\n",
    "You have to find and print the smallest element of the list given as input. \n",
    "\n",
    "----------------------------------------------------------------------\n",
    "Input:\n",
    "A non-empty list of integers.\n",
    "\n",
    "Output:\n",
    "The smallest integer of the input list.\n"
   ]
  },
  {
   "cell_type": "code",
   "execution_count": null,
   "id": "cfe41dca",
   "metadata": {},
   "outputs": [],
   "source": [
    "## my solution\n",
    "\n",
    "#input have been taken for you here\n",
    "import ast\n",
    "input_str = input()\n",
    "input_list = ast.literal_eval(input_str)\n",
    "\n",
    "m = input_list[0]\n",
    "for item in input_list:\n",
    "    if item < m:\n",
    "        m=item\n",
    "print(m)\n"
   ]
  },
  {
   "cell_type": "code",
   "execution_count": null,
   "id": "e58cc024",
   "metadata": {},
   "outputs": [],
   "source": [
    "## upgrad solution\n",
    "\n",
    "#input have been taken for you here\n",
    "import ast\n",
    "input_str = input()\n",
    "input_list = ast.literal_eval(input_str)\n",
    "\n",
    "\n",
    "if len(input_list)==0:\n",
    "     print(\"no minimum\")\n",
    "else:\n",
    "     m=input_list[0]\n",
    "    for item in input_list:\n",
    "        if item < m:\n",
    "            m = item\n",
    "    print(m)\n",
    "\n",
    "\n",
    "print(min(input_list))\n"
   ]
  },
  {
   "cell_type": "markdown",
   "id": "6473879e",
   "metadata": {},
   "source": []
  },
  {
   "cell_type": "markdown",
   "id": "cffec4ae",
   "metadata": {},
   "source": [
    "## Above Average"
   ]
  },
  {
   "cell_type": "markdown",
   "id": "4289e1d1",
   "metadata": {},
   "source": [
    "Above Average\n",
    "Description\n",
    "Finding the average of the data and comparing it with other values is often encountered while analysing the data. Here you will do the same thing. The data will be provided to you in a list. You will also be given a number check.  You will return whether the number check is above average or no.\n",
    "\n",
    "----------------------------------------------------------------------\n",
    "Input:\n",
    "A list with two elements:\n",
    "The first element will be the list of data of integers and\n",
    "The second element will be an integer check.\n",
    "\n",
    "Output:\n",
    "True if check is above average and False otherwise\n"
   ]
  },
  {
   "cell_type": "code",
   "execution_count": null,
   "id": "07109458",
   "metadata": {},
   "outputs": [],
   "source": [
    "\n",
    "import ast\n",
    "input_str = input()\n",
    "input_list = ast.literal_eval(input_str)\n",
    "\n",
    "data=input_list[0]\n",
    "check=input_list[1]\n",
    "\n",
    "s = 0\n",
    "for item in data:\n",
    "     s = s + item\n",
    "avg = s/len(input_list[0])\n",
    "\n",
    "if check>avg:\n",
    "    print('True')\n",
    "else:\n",
    "    print('False')\n",
    "\n"
   ]
  },
  {
   "cell_type": "code",
   "execution_count": null,
   "id": "c3674591",
   "metadata": {},
   "outputs": [],
   "source": []
  },
  {
   "cell_type": "markdown",
   "id": "5aface6d",
   "metadata": {},
   "source": [
    "## Recruit New Members"
   ]
  },
  {
   "cell_type": "markdown",
   "id": "7fd9a909",
   "metadata": {},
   "source": [
    "Recruit New Members\n",
    "Description\n",
    "Suppose you are a manager as a big firm and now are looking for new members for your team. You sent out an advertisement and have received a few applications. You have a habit of scoring people on a scale of 100. You have given scores to all the members of your team and the new applications. The process of selection is going to be very straightforward if the applicant improves the average of the team then you hire the applicant to join the team or else reject the application. Remember the order of processing applications is going to be important here.\n",
    "\n",
    "\n",
    "\n",
    "You may see this as an extension of the previous problem, which it is. You may use the code written in the previous question as a function to improve the code quality.\n",
    "\n",
    "----------------------------------------------------------------------\n",
    "\n",
    "Input:\n",
    "\n",
    "Two lists on two separate lines.\n",
    "\n",
    "The first line will have the list of scores of current team members\n",
    "\n",
    "The second line will have the list of scores of the applicants.\n",
    "\n",
    "Output:\n",
    "\n",
    "The list consisting of scores of the final team after hiring from the pool of applicants."
   ]
  },
  {
   "cell_type": "code",
   "execution_count": null,
   "id": "ff41eb20",
   "metadata": {},
   "outputs": [],
   "source": [
    "import ast\n",
    "\n",
    "team = ast.literal_eval(input())\n",
    "applicant = ast.literal_eval(input())\n",
    "\n",
    "def check_above_average(data, check) :\n",
    "    s=0\n",
    "    for item in data:\n",
    "        s = s + item\n",
    "    avg = s/len(data)\n",
    "    if check>avg:\n",
    "        return 1\n",
    "    else:\n",
    "        return 0\n",
    "for appl in applicant:\n",
    "    is_add=check_above_average(team,appl)\n",
    "    if is_add==1:\n",
    "        team.append(appl)\n",
    "print(team)"
   ]
  },
  {
   "cell_type": "code",
   "execution_count": null,
   "id": "b3490cc3",
   "metadata": {},
   "outputs": [],
   "source": []
  },
  {
   "cell_type": "markdown",
   "id": "657b7c6f",
   "metadata": {},
   "source": [
    "## Calendar"
   ]
  },
  {
   "cell_type": "markdown",
   "id": "320890f3",
   "metadata": {},
   "source": [
    "Calendar\n",
    "Description\n",
    "You are planning to go to your friend's wedding and you have long events all month, lasting at least a few days. You have the start and end dates of events and your task is to find out events overlapping with the wedding date.\n",
    "\n",
    "The code for taking input has already been written for you, please don't modify that, but do read and try to understand the way input has been taken. You will be asked to take input on your own for most of the problems here onwards. Taking data in a suitable format is an important skill for a Data Scientist.\n",
    "\n",
    "----------------------------------------------------------------------\n",
    "Input:\n",
    "The input will contain a list of lists where each sub-list has only two elements representing the start and end date of an event, the start date will be less than or equal to the end date. The next line of input will have a wedding date. \n",
    "\n",
    "Output:\n",
    "The output should have the number of events overlapping with the wedding date.\n"
   ]
  },
  {
   "cell_type": "code",
   "execution_count": null,
   "id": "4c48b3ac",
   "metadata": {},
   "outputs": [],
   "source": [
    "import ast\n",
    "event_list = ast.literal_eval(input())\n",
    "marriage = int(input())\n",
    "\n",
    "clash = 0\n",
    "\n",
    "for dates in event_list:\n",
    "    if dates[0] <= marriage <= dates[1]:\n",
    "        clash += 1 \n",
    "\n",
    "print(clash)"
   ]
  },
  {
   "cell_type": "code",
   "execution_count": null,
   "id": "5deb95ec",
   "metadata": {},
   "outputs": [],
   "source": []
  },
  {
   "cell_type": "markdown",
   "id": "bf3e8648",
   "metadata": {},
   "source": [
    "## Fenced Matrix"
   ]
  },
  {
   "cell_type": "markdown",
   "id": "35041794",
   "metadata": {},
   "source": [
    "Fenced Matrix\n",
    "Description\n",
    "You will be given two positive integers m and n. You have to make a list of lists (which can be visualised as a matrix) of size m*n, that is m sublists (rows), with each sublists having n integers (columns). The matrix should be such that it should have 1 on the border and 0 everywhere else. See sample input and output for more clarification.\n",
    "\n",
    "----------------------------------------------------------------------\n",
    "Input:\n",
    "\n",
    "Two integers separated by a comma\n",
    "\n",
    "Output:\n",
    "\n",
    "A list of lists of size m*n printed like matrix as shown in the sample output."
   ]
  },
  {
   "cell_type": "code",
   "execution_count": null,
   "id": "cd5f6f42",
   "metadata": {},
   "outputs": [],
   "source": [
    "in_str = input().split(',')\n",
    "m = int(in_str[0])\n",
    "n = int(in_str[1])\n",
    "\n",
    "final = [0]*n\n",
    "final = [list(final) for i in range(m)]\n",
    "\n",
    "for row in range(m):\n",
    "    for col in range(n):\n",
    "        if row == 0 or row == m-1 or col == 0 or col == n-1:\n",
    "            final[row][col] = 1\n",
    "\n",
    "\n",
    "for i in final:\n",
    "    print(i)"
   ]
  },
  {
   "cell_type": "code",
   "execution_count": null,
   "id": "7d202f01",
   "metadata": {},
   "outputs": [],
   "source": []
  },
  {
   "cell_type": "markdown",
   "id": "3bb33d14",
   "metadata": {},
   "source": [
    "# string"
   ]
  },
  {
   "cell_type": "markdown",
   "id": "ecfd18c8",
   "metadata": {},
   "source": [
    "## Refresher"
   ]
  },
  {
   "cell_type": "code",
   "execution_count": null,
   "id": "05c12b0b",
   "metadata": {},
   "outputs": [],
   "source": [
    "#### Question_1:\n",
    "__Strings__\n",
    "Strings is a data structure in python. There are two types of data structures- immutable and mutable. Strings are under which category?\n",
    "\n",
    "- Always Mutable\n",
    "- Always Immutable   ✓ Correct\n",
    "- Can be both depending on initialisation"
   ]
  },
  {
   "cell_type": "code",
   "execution_count": null,
   "id": "f4631698",
   "metadata": {},
   "outputs": [],
   "source": []
  },
  {
   "cell_type": "code",
   "execution_count": null,
   "id": "eddcfa2d",
   "metadata": {},
   "outputs": [],
   "source": [
    "#### Question_2:\n",
    "__Character__\n",
    "What will be the output of the following?\n",
    "```\n",
    "print(chr(51))\n",
    "```\n",
    "\n",
    "- 3   ✓ Correct\n",
    "- Will throw an error\n",
    "- a\n",
    "- 'A'\n",
    "- '3'"
   ]
  },
  {
   "cell_type": "code",
   "execution_count": null,
   "id": "563e424c",
   "metadata": {},
   "outputs": [],
   "source": []
  },
  {
   "cell_type": "code",
   "execution_count": null,
   "id": "c5288e85",
   "metadata": {},
   "outputs": [],
   "source": [
    "#### Question_3:\n",
    "__ASCII__\n",
    "Given an ASCII code, how will you find the character associated with it? Suppose the given ASCII code is 123.\n",
    "\n",
    "- char(123)\n",
    "- ord(123)\n",
    "- chr(123)   ✓ Correct\n",
    "- ord('123')"
   ]
  },
  {
   "cell_type": "code",
   "execution_count": null,
   "id": "11596156",
   "metadata": {},
   "outputs": [],
   "source": []
  },
  {
   "cell_type": "code",
   "execution_count": null,
   "id": "11b8ffdf",
   "metadata": {},
   "outputs": [],
   "source": [
    "#### Question_4:\n",
    "__Strip__\n",
    "What does the following line of code do to a string S\n",
    "```\n",
    "S.strip()\n",
    "```\n",
    "\n",
    "- Remove empty spaces from the left end of the string\n",
    "- Remove empty spaces from the right end of the string\n",
    "- Separate every character of the string\n",
    "- Remove empty spaces from both ends of the string     ✓ Correct"
   ]
  },
  {
   "cell_type": "code",
   "execution_count": null,
   "id": "4f813ccb",
   "metadata": {},
   "outputs": [],
   "source": []
  },
  {
   "cell_type": "code",
   "execution_count": null,
   "id": "49039d6d",
   "metadata": {},
   "outputs": [],
   "source": [
    "#### Question_5:\n",
    "__Map, Filter, Reduce__\n",
    "Will the functions map, reduce, filter work on Strings?\n",
    "\n",
    "- None of them will work, they will work only on List and other mutable Data structures.\n",
    "- Only map will not work.\n",
    "- Only filter will not work\n",
    "- All three will work       ✓ Correct\n",
    "- Only reduce will not work"
   ]
  },
  {
   "cell_type": "code",
   "execution_count": null,
   "id": "6c75f1c5",
   "metadata": {},
   "outputs": [],
   "source": []
  },
  {
   "cell_type": "code",
   "execution_count": null,
   "id": "dee36adc",
   "metadata": {},
   "outputs": [],
   "source": [
    "#### Question_6:\n",
    "__String__\n",
    "Which of the following will give the output as 'upGrad'?\n",
    "\n",
    "Multiple answers may be correct.\n",
    "\n",
    "- ```\n",
    "s = upGrad\n",
    "```\n",
    "- ```\n",
    "s = upgrad\n",
    "s = s[:2] + s[2].upper() + s[3:]\n",
    "```\n",
    "- ```\n",
    "'G'.join(['up','rad'])    ✓ Correct\n",
    "```\n",
    "- ```\n",
    "s='aabupGradaab'.strip('aab')    ✓ Correct\n",
    "```\n",
    "- ```\n",
    "s='aabupGradaab'.strip('a').strip('b').strip('a')   ✓ Correct\n",
    "```"
   ]
  },
  {
   "cell_type": "code",
   "execution_count": null,
   "id": "e57fc43a",
   "metadata": {},
   "outputs": [],
   "source": []
  },
  {
   "cell_type": "markdown",
   "id": "d9c8b73a",
   "metadata": {},
   "source": [
    "## Palindrome String"
   ]
  },
  {
   "cell_type": "markdown",
   "id": "39f8f48f",
   "metadata": {},
   "source": [
    "Palindrome String\n",
    "Description\n",
    "Write a program to check whether a string is a palindrome or not. Print 1 if the string is a palindrome and 0 otherwise.\n",
    "\n",
    "Note: Please ensure that your program should not be case-sensitive. So, if the input is, say, “HAnnah”, then, its output should be 1.\n",
    "\n",
    "----------------------------------------------------------------------\n",
    "Input:\n",
    "A string\n",
    "\n",
    "Output:\n",
    "1 if the string is a palindrome, 0 otherwise"
   ]
  },
  {
   "cell_type": "code",
   "execution_count": null,
   "id": "90312bb5",
   "metadata": {},
   "outputs": [],
   "source": [
    "# solution_1: using string slicing\n",
    "s = input()\n",
    "reverse_str = s[::-1]\n",
    "if s.lower() == reverse_str.lower():\n",
    "    print(1)\n",
    "else:\n",
    "    print(0)"
   ]
  },
  {
   "cell_type": "code",
   "execution_count": null,
   "id": "d7dd65d6",
   "metadata": {},
   "outputs": [],
   "source": []
  },
  {
   "cell_type": "markdown",
   "id": "d9686399",
   "metadata": {},
   "source": [
    "## Reverse Words"
   ]
  },
  {
   "cell_type": "markdown",
   "id": "3ca7b4e2",
   "metadata": {},
   "source": [
    "Reverse Words\n",
    "Description\n",
    "You will be given a sentence in the form of a string. You have to reverse the order of the words in the sentence. Remember not to reverse the individual words, but the order of words. Check the sample input-output for further clarification.\n",
    "\n",
    "----------------------------------------------------------------------\n",
    "Input:\n",
    "A string, which will consist of a few spaces.\n",
    "\n",
    "Output:\n",
    "The words in reverse order.\n"
   ]
  },
  {
   "cell_type": "code",
   "execution_count": null,
   "id": "a9c81620",
   "metadata": {},
   "outputs": [],
   "source": [
    "# Solution_1: split and join method with slicing\n",
    "sentence = input().split()\n",
    "new_list = sentence[::-1]\n",
    "print(\" \".join(new_list))"
   ]
  },
  {
   "cell_type": "code",
   "execution_count": null,
   "id": "2b8be681",
   "metadata": {},
   "outputs": [],
   "source": []
  },
  {
   "cell_type": "markdown",
   "id": "bf52f7d8",
   "metadata": {},
   "source": [
    "## No Spaces"
   ]
  },
  {
   "cell_type": "markdown",
   "id": "69447b3d",
   "metadata": {},
   "source": [
    "No Spaces\n",
    "Description\n",
    "While naming entities, it is a common practice to avoid spaces. That is the reason you see so many people using underscores instead of spaces. \n",
    "You will be given a string, containing a few spaces and random upper and lower cases. You have to write a code that will add underscore in place of spaces and also capitalise the letters properly, i.e. the first letter after underscore should be in upper case and the first letter of the string should be in upper case, all of the other letters should be lower case. \n",
    "This type of activity is frequently encountered while starting to analyse data. This is called Data cleaning and you will learn more about it in upcoming modules.\n",
    "\n",
    "----------------------------------------------------------------------\n",
    "Input:\n",
    "A string of only alphabets and spaces\n",
    "\n",
    "Output:\n",
    "A string formatted as stated above. See sample input/output for more clarification,"
   ]
  },
  {
   "cell_type": "code",
   "execution_count": null,
   "id": "871e3a03",
   "metadata": {},
   "outputs": [],
   "source": [
    "# Solution_1: using built in functions without any loop\n",
    "in_str = input().lower().split()\n",
    "output_list = \"_\".join(in_str).title()\n",
    "print(output_list)"
   ]
  },
  {
   "cell_type": "code",
   "execution_count": null,
   "id": "606d4f14",
   "metadata": {},
   "outputs": [],
   "source": []
  },
  {
   "cell_type": "markdown",
   "id": "ae56d8f2",
   "metadata": {},
   "source": [
    "## Shift Vowels\n"
   ]
  },
  {
   "cell_type": "markdown",
   "id": "5d4f6c5d",
   "metadata": {},
   "source": [
    "Shift Vowels\n",
    "\n",
    "Description\n",
    "\n",
    "Write a program that receives a string and shifts all the vowels present in it to the beginning. Output the resultant string. The order of all the vowels with respect to each other as well as the order of all the other characters with respect to each other should stay the same.\n",
    "\n",
    "Input:\n",
    "A string\n",
    "\n",
    "Output:\n",
    "Vowels shifted to the beginning in the input string."
   ]
  },
  {
   "cell_type": "code",
   "execution_count": null,
   "id": "d392a9dd",
   "metadata": {},
   "outputs": [],
   "source": [
    "# Solution_1: using loop\n",
    "in_str = input()\n",
    "vowels_str = \"\"\n",
    "other_str = \"\"\n",
    "\n",
    "for letter in in_str:\n",
    "    if letter in 'AEIOUaeiou':\n",
    "        vowels_str += letter\n",
    "    else:\n",
    "        other_str += letter\n",
    "\n",
    "print(vowels_str+other_str)"
   ]
  },
  {
   "cell_type": "code",
   "execution_count": null,
   "id": "10d59732",
   "metadata": {},
   "outputs": [],
   "source": []
  },
  {
   "cell_type": "markdown",
   "id": "7b2b5892",
   "metadata": {},
   "source": [
    "## Common Prefix\n"
   ]
  },
  {
   "cell_type": "markdown",
   "id": "3a3995fd",
   "metadata": {},
   "source": [
    "Common Prefix\n",
    "\n",
    "Description\n",
    "\n",
    "You will be given two strings. You have to find the largest prefix common in both the strings.\n",
    "\n",
    "Input:\n",
    "Two lines of input, one string on each line\n",
    "\n",
    "Output:\n",
    "The common largest prefix for both strings. Check sample input/output for clarification. -1 if no prefix is common.\n"
   ]
  },
  {
   "cell_type": "code",
   "execution_count": null,
   "id": "c34adc68",
   "metadata": {},
   "outputs": [],
   "source": [
    "string1=input()\n",
    "string2=input()\n",
    "\n",
    "#start writing your code to find largest common prefix here\n",
    "string1 = string1.lower()\n",
    "string2 = string2.lower()\n",
    "count = 1\n",
    "\n",
    "for i, j in zip(string1,string2):\n",
    "    if i==j and count==1:\n",
    "        print(i,end=\"\")\n",
    "    elif i!=j:\n",
    "        if i == string1[0]:\n",
    "            print(-1)\n",
    "        else:\n",
    "            count=-1"
   ]
  },
  {
   "cell_type": "code",
   "execution_count": null,
   "id": "5f5678fb",
   "metadata": {},
   "outputs": [],
   "source": []
  },
  {
   "cell_type": "markdown",
   "id": "b49ba90d",
   "metadata": {},
   "source": [
    "## Anagrams\n"
   ]
  },
  {
   "cell_type": "markdown",
   "id": "4f761d88",
   "metadata": {},
   "source": [
    "Anagrams\n",
    "\n",
    "Description\n",
    "\n",
    "Two strings are anagrams of each other if you can rearrange the characters of one string to make the other string. Given two strings, can you find if they are anagrams or no?\n",
    "\n",
    "Input:\n",
    "Two lines of input, each line will contain a string without space.\n",
    "\n",
    "Output:\n",
    "True or False based on whether the strings are anagrams or not.\n"
   ]
  },
  {
   "cell_type": "code",
   "execution_count": null,
   "id": "626e81a9",
   "metadata": {},
   "outputs": [],
   "source": [
    "# Solution_1: using sorted() function\n",
    "string1 = input()\n",
    "string2 = input()\n",
    "\n",
    "string1 = sorted(string1)\n",
    "string2 = sorted(string2)\n",
    "\n",
    "if string1 == string2:\n",
    "    print(True)\n",
    "else:\n",
    "    print(False)"
   ]
  },
  {
   "cell_type": "code",
   "execution_count": null,
   "id": "52a3abc3",
   "metadata": {},
   "outputs": [],
   "source": []
  },
  {
   "cell_type": "markdown",
   "id": "1266f8d0",
   "metadata": {},
   "source": [
    "# Other Data Structures\n",
    "\n"
   ]
  },
  {
   "cell_type": "markdown",
   "id": "62844a36",
   "metadata": {},
   "source": [
    "## Refresher"
   ]
  },
  {
   "cell_type": "code",
   "execution_count": null,
   "id": "4bea98fe",
   "metadata": {},
   "outputs": [],
   "source": [
    "#### Question_1:\n",
    "__Intersection__<br><br>\n",
    "Which of the following codes can be used to find intersection of sets A, B and C.\n",
    "- ```set.intersection(A, B, C)```  ✓ Correct\n",
    "- ```A.intersection(B, C)```    ✓ Correct\n",
    "- ```A.intersection([B, C])```\n",
    "- ```set.intersection([A, B, C])```"
   ]
  },
  {
   "cell_type": "code",
   "execution_count": null,
   "id": "9436d2e7",
   "metadata": {},
   "outputs": [],
   "source": []
  },
  {
   "cell_type": "code",
   "execution_count": null,
   "id": "b5407ee6",
   "metadata": {},
   "outputs": [],
   "source": [
    "#### Question_2:\n",
    "__Immutables__<br><br>\n",
    "Which of the following are immutable?\n",
    "- ```Elements of sets```   ✓ Correct\n",
    "- ```Lists```\n",
    "- ```Dictionary```\n",
    "- ```Tuples```    ✓ Correct"
   ]
  },
  {
   "cell_type": "code",
   "execution_count": null,
   "id": "1a94e338",
   "metadata": {},
   "outputs": [],
   "source": []
  },
  {
   "cell_type": "code",
   "execution_count": null,
   "id": "bac761a0",
   "metadata": {},
   "outputs": [],
   "source": [
    "#### Question_3:\n",
    "__Dictionary__<br><br>\n",
    "Which of the following will create a dictionary?\n",
    "- ```d = {}```\n",
    "- ```d = ('a':1, 'b':2)```\n",
    "- ```d=dict(a=1, b=2)```  ✓ all Correct\n",
    "- ```d={'a'=1, 'b'=2}```\n",
    "- ```d={'a':1, 'b':2}```"
   ]
  },
  {
   "cell_type": "code",
   "execution_count": null,
   "id": "befb939a",
   "metadata": {},
   "outputs": [],
   "source": []
  },
  {
   "cell_type": "code",
   "execution_count": null,
   "id": "7f02bc72",
   "metadata": {},
   "outputs": [],
   "source": [
    "#### Question_4:\n",
    "__Keys__<br><br>\n",
    "What will the following code return?\n",
    "```\n",
    "d={'a':64, 'b':65, 'c':66, 'd':67}\n",
    "print(d['e'])\n",
    "```\n",
    "- ```68```\n",
    "- ```0```\n",
    "- ```nan```\n",
    "- ```Error```    ✓ Correct"
   ]
  },
  {
   "cell_type": "code",
   "execution_count": null,
   "id": "3aacb4fe",
   "metadata": {},
   "outputs": [],
   "source": []
  },
  {
   "cell_type": "code",
   "execution_count": null,
   "id": "f0b8b1b4",
   "metadata": {},
   "outputs": [],
   "source": [
    "#### Question_5:\n",
    "__Keys__<br><br>\n",
    "What will the following code return?\n",
    "```\n",
    "d={'a':64, 'b':65, 'c':66, 'd':67}\n",
    "print(d.keys())\n",
    "```\n",
    "- ```[a, b, c, d]```\n",
    "- ```('a', 'b', 'c', 'd')```\n",
    "- ```['a':64, 'b':65, 'c':66, 'd':67]```\n",
    "- ```['a', 'b', 'c', 'd']```    ✓ Correct\n",
    "- ```('a':64, 'b':65, 'c':66, 'd':67)```"
   ]
  },
  {
   "cell_type": "code",
   "execution_count": null,
   "id": "364d56a3",
   "metadata": {},
   "outputs": [],
   "source": []
  },
  {
   "cell_type": "code",
   "execution_count": null,
   "id": "8784a31d",
   "metadata": {},
   "outputs": [],
   "source": [
    "#### Question_6:\n",
    "__Values?__<br><br>\n",
    "Dictionary can be seen as a map between two entities called keys and values. All the keys in the list can be accessed by d.keys() where d is the dictionary. How are values accessed in the dictionary?\n",
    "\n",
    "Assume name of the dictionary is d.\n",
    "\n",
    "- ```d.vals```\n",
    "- ```d.vals()```\n",
    "- ```d.value()```\n",
    "- ```d.values()```    ✓ Correct\n",
    "- ```d.values```"
   ]
  },
  {
   "cell_type": "code",
   "execution_count": null,
   "id": "dbb1498c",
   "metadata": {},
   "outputs": [],
   "source": []
  },
  {
   "cell_type": "code",
   "execution_count": null,
   "id": "6fd674cf",
   "metadata": {},
   "outputs": [],
   "source": [
    "#### Question_7:\n",
    "__Deleting Key__<br><br>\n",
    "Suppose dict_1 = {\"Python'':40, \"R'':45}. What command should be used to delete the entry?\n",
    "\n",
    "- ```dict_1.delete('R':45)```\n",
    "- ```del dict_1['R']```   ✓ Correct\n",
    "- ```dict_1.delete('R')```\n",
    "- ```del dict_1('R':40)```"
   ]
  },
  {
   "cell_type": "code",
   "execution_count": null,
   "id": "897bbab7",
   "metadata": {},
   "outputs": [],
   "source": []
  },
  {
   "cell_type": "markdown",
   "id": "8bdf7c98",
   "metadata": {},
   "source": [
    "## Remove Duplicates"
   ]
  },
  {
   "cell_type": "markdown",
   "id": "62e61e68",
   "metadata": {},
   "source": [
    "Remove Duplicates\n",
    "\n",
    "Description\n",
    "\n",
    "Sometimes the data has few duplicate values which will affect the analysis done. In this problem, you will be given a list. You have to find and delete the duplicates and print the updated list with no duplicates.\n",
    "\n",
    "Input:\n",
    "A list of integers.\n",
    "\n",
    "Output:\n",
    "A list of integers, with duplicates removed if any."
   ]
  },
  {
   "cell_type": "code",
   "execution_count": null,
   "id": "8b18a7b6",
   "metadata": {},
   "outputs": [],
   "source": [
    "import ast\n",
    "in_list = ast.literal_eval(input())\n",
    "dict1 = {}\n",
    "for i in in_list:\n",
    "    if i not in dict1:\n",
    "        dict1[i] = 1 \n",
    "print(list(dict1.keys()))"
   ]
  },
  {
   "cell_type": "code",
   "execution_count": null,
   "id": "d11c1387",
   "metadata": {},
   "outputs": [],
   "source": []
  },
  {
   "cell_type": "markdown",
   "id": "47e9c319",
   "metadata": {},
   "source": [
    "## Dictionary And List"
   ]
  },
  {
   "cell_type": "markdown",
   "id": "b76f9109",
   "metadata": {},
   "source": [
    "Dictionary And List\n",
    "\n",
    "Description\n",
    "\n",
    "You will be converting a dictionary, of string(keys) and list of string (values), to a list of strings. Please check the sample input/output for clarification.\n",
    "\n",
    "Input:\n",
    "A dictionary with keys as strings and values as a list of strings.\n",
    "\n",
    "Output:\n",
    "A list of strings"
   ]
  },
  {
   "cell_type": "code",
   "execution_count": null,
   "id": "9e4c745d",
   "metadata": {},
   "outputs": [],
   "source": [
    "import ast\n",
    "input_dict = ast.literal_eval(input())\n",
    "final_list = []\n",
    "for key in input_dict.keys():\n",
    "    for value in input_dict[key]:\n",
    "        final_list.append(key+\"_\"+value)\n",
    "print(final_list)"
   ]
  },
  {
   "cell_type": "code",
   "execution_count": null,
   "id": "0178ddae",
   "metadata": {},
   "outputs": [],
   "source": []
  },
  {
   "cell_type": "markdown",
   "id": "8dc91b98",
   "metadata": {},
   "source": [
    "## upGrad String"
   ]
  },
  {
   "cell_type": "markdown",
   "id": "72cebf75",
   "metadata": {},
   "source": [
    "upGrad String\n",
    "Description\n",
    "For the purpose of this question, we will define something called an upGrad string. Note that this definition is not valid outside this question. A string upGrad string if the frequency of its characters is something like 1, 2, 3, 4, .... That is a character appears only once, another appears twice, another appears thrice and so on. For example string '$yrr$ssrsr' is a upGrad string since the frequency of y:1, $:2, s:3, r:4, however string '$yrr$ssrsr%' will not be an upGrad string since it has two characters (y and %) with frequency 1. The frequency of characters should be of form 1, 2, 3, 4, 5... only.\n",
    "\n",
    "Given a string, can you determine if the string is upGrad string or no?\n",
    "\n",
    "Input:\n",
    "\n",
    "A string\n",
    "\n",
    "Output:\n",
    "\n",
    "Boolean depending whether the string is upGrad string or not\n",
    "\n"
   ]
  },
  {
   "cell_type": "code",
   "execution_count": null,
   "id": "c8e9f409",
   "metadata": {},
   "outputs": [],
   "source": [
    "upgrad_str = input()\n",
    "dict1 = {}\n",
    "\n",
    "for key in upgrad_str:\n",
    "    if key not in dict1:\n",
    "        dict1[key] = 1 \n",
    "    else:\n",
    "        dict1[key] += 1 \n",
    "        \n",
    "vals = dict1.values()\n",
    "n = len(dict1)\n",
    "def upgrad_string(vals):\n",
    "    for i in range(1,n+1):\n",
    "        if i not in vals:\n",
    "            return False\n",
    "    return True\n",
    "\n",
    "print(upgrad_string(vals))"
   ]
  },
  {
   "cell_type": "code",
   "execution_count": null,
   "id": "a55b61a2",
   "metadata": {},
   "outputs": [],
   "source": []
  },
  {
   "cell_type": "markdown",
   "id": "f0b02b5f",
   "metadata": {},
   "source": [
    "## Balanced Brackets\n"
   ]
  },
  {
   "cell_type": "markdown",
   "id": "8ade958b",
   "metadata": {},
   "source": [
    "Balanced Brackets\n",
    "Description\n",
    "You will be given a string with a lot of brackets. You have to print if the brackets are balanced or not. Remember, there are three types of brackets: ‘( )’,  ‘{ }’ and ‘[ ]’.\n",
    "\n",
    "----------------------------------------------------------------------\n",
    "Input:\n",
    "A string\n",
    "\n",
    "Output:\n",
    "Yes, if the brackets are balanced.\n",
    "No otherwise.\n"
   ]
  },
  {
   "cell_type": "code",
   "execution_count": null,
   "id": "505e178f",
   "metadata": {},
   "outputs": [],
   "source": [
    "in_str = input()\n",
    "stack = []\n",
    "\n",
    "for i in in_str:\n",
    "    if len(stack) == 0:\n",
    "        stack.append(i)\n",
    "    else:\n",
    "        if i == ')' and stack[-1] == '(':\n",
    "            stack.pop()\n",
    "        elif i == '}' and stack[-1] == '{':\n",
    "            stack.pop()\n",
    "        elif i == \"]\" and stack[-1] == '[':\n",
    "            stack.pop()\n",
    "        else:\n",
    "            stack.append(i)\n",
    "if len(stack) == 0:\n",
    "    print(\"Yes\")\n",
    "else:\n",
    "    print(\"No\")"
   ]
  },
  {
   "cell_type": "code",
   "execution_count": null,
   "id": "2ad10ea0",
   "metadata": {},
   "outputs": [],
   "source": []
  },
  {
   "cell_type": "code",
   "execution_count": 1,
   "id": "4d70ebae",
   "metadata": {},
   "outputs": [],
   "source": [
    "import jovian"
   ]
  },
  {
   "cell_type": "code",
   "execution_count": null,
   "id": "08a1ac83",
   "metadata": {},
   "outputs": [
    {
     "data": {
      "application/javascript": [
       "window.require && require([\"base/js/namespace\"],function(Jupyter){Jupyter.notebook.save_checkpoint()})"
      ],
      "text/plain": [
       "<IPython.core.display.Javascript object>"
      ]
     },
     "metadata": {},
     "output_type": "display_data"
    }
   ],
   "source": [
    "jovian.commit()"
   ]
  },
  {
   "cell_type": "code",
   "execution_count": null,
   "id": "f1fc2075",
   "metadata": {},
   "outputs": [],
   "source": []
  }
 ],
 "metadata": {
  "language_info": {
   "codemirror_mode": {
    "name": "ipython",
    "version": 3
   },
   "file_extension": ".py",
   "mimetype": "text/x-python",
   "name": "python",
   "nbconvert_exporter": "python",
   "pygments_lexer": "ipython3",
   "version": "3.9.7"
  }
 },
 "nbformat": 4,
 "nbformat_minor": 5
}